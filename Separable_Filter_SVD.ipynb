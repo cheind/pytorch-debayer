{
  "nbformat": 4,
  "nbformat_minor": 0,
  "metadata": {
    "colab": {
      "name": "Separable Filter SVD.ipynb",
      "provenance": [],
      "collapsed_sections": []
    },
    "kernelspec": {
      "name": "python3",
      "display_name": "Python 3"
    },
    "language_info": {
      "name": "python"
    }
  },
  "cells": [
    {
      "cell_type": "code",
      "source": [
        "import torch\n",
        "import debayer\n",
        "import numpy as np\n",
        "import matplotlib.pyplot as plt\n",
        "from mpl_toolkits.axes_grid1 import make_axes_locatable\n",
        "plt.rcParams[\"figure.figsize\"]=10,10"
      ],
      "metadata": {
        "id": "mcO0nNZpsRZN"
      },
      "execution_count": null,
      "outputs": []
    },
    {
      "cell_type": "code",
      "execution_count": null,
      "metadata": {
        "colab": {
          "base_uri": "https://localhost:8080/"
        },
        "id": "XLM7gbz5q_F5",
        "outputId": "1fb717fa-63a8-45b0-e609-06e4e62511ac"
      },
      "outputs": [
        {
          "output_type": "stream",
          "name": "stdout",
          "text": [
            "  Building wheel for pytorch-debayer (setup.py) ... \u001b[?25l\u001b[?25hdone\n",
            "\u001b[31mERROR: pip's dependency resolver does not currently take into account all the packages that are installed. This behaviour is the source of the following dependency conflicts.\n",
            "tensorflow 2.8.0 requires tf-estimator-nightly==2.8.0.dev2021122109, which is not installed.\n",
            "torchvision 0.11.1+cu111 requires torch==1.10.0, but you have torch 1.11.0 which is incompatible.\n",
            "torchtext 0.11.0 requires torch==1.10.0, but you have torch 1.11.0 which is incompatible.\n",
            "torchaudio 0.10.0+cu111 requires torch==1.10.0, but you have torch 1.11.0 which is incompatible.\n",
            "datascience 0.10.6 requires folium==0.2.1, but you have folium 0.8.3 which is incompatible.\n",
            "arviz 0.11.4 requires typing-extensions<4,>=3.7.4.3, but you have typing-extensions 4.1.1 which is incompatible.\n",
            "albumentations 0.1.12 requires imgaug<0.2.7,>=0.2.5, but you have imgaug 0.2.9 which is incompatible.\u001b[0m\n"
          ]
        }
      ],
      "source": [
        "!pip3 install -U git+https://github.com/cheind/pytorch-debayer --force -q\n",
        "!pip3 install torch -q"
      ]
    },
    {
      "cell_type": "code",
      "source": [
        "kernels = debayer.Debayer5x5().kernels.data\n",
        "kernels"
      ],
      "metadata": {
        "colab": {
          "base_uri": "https://localhost:8080/"
        },
        "id": "t8nWuk1pt_07",
        "outputId": "e535fecc-27bd-4354-dcd6-3e5aabb44e64"
      },
      "execution_count": null,
      "outputs": [
        {
          "output_type": "execute_result",
          "data": {
            "text/plain": [
              "tensor([[[[ 0.0000,  0.0000, -0.1250,  0.0000,  0.0000],\n",
              "          [ 0.0000,  0.0000,  0.2500,  0.0000,  0.0000],\n",
              "          [-0.1250,  0.2500,  0.5000,  0.2500, -0.1250],\n",
              "          [ 0.0000,  0.0000,  0.2500,  0.0000,  0.0000],\n",
              "          [ 0.0000,  0.0000, -0.1250,  0.0000,  0.0000]]],\n",
              "\n",
              "\n",
              "        [[[ 0.0000,  0.0000,  0.0625,  0.0000,  0.0000],\n",
              "          [ 0.0000, -0.1250,  0.0000, -0.1250,  0.0000],\n",
              "          [-0.1250,  0.5000,  0.6250,  0.5000, -0.1250],\n",
              "          [ 0.0000, -0.1250,  0.0000, -0.1250,  0.0000],\n",
              "          [ 0.0000,  0.0000,  0.0625,  0.0000,  0.0000]]],\n",
              "\n",
              "\n",
              "        [[[ 0.0000,  0.0000, -0.1250,  0.0000,  0.0000],\n",
              "          [ 0.0000, -0.1250,  0.5000, -0.1250,  0.0000],\n",
              "          [ 0.0625,  0.0000,  0.6250,  0.0000,  0.0625],\n",
              "          [ 0.0000, -0.1250,  0.5000, -0.1250,  0.0000],\n",
              "          [ 0.0000,  0.0000, -0.1250,  0.0000,  0.0000]]],\n",
              "\n",
              "\n",
              "        [[[ 0.0000,  0.0000, -0.1875,  0.0000,  0.0000],\n",
              "          [ 0.0000,  0.2500,  0.0000,  0.2500,  0.0000],\n",
              "          [-0.1875,  0.0000,  0.7500,  0.0000, -0.1875],\n",
              "          [ 0.0000,  0.2500,  0.0000,  0.2500,  0.0000],\n",
              "          [ 0.0000,  0.0000, -0.1875,  0.0000,  0.0000]]]])"
            ]
          },
          "metadata": {},
          "execution_count": 63
        }
      ]
    },
    {
      "cell_type": "code",
      "source": [
        "def plot_kernel(k, ax=None):\n",
        "  ax = ax or plt.gca()\n",
        "  return ax.imshow(k, interpolation=\"nearest\")\n",
        "\n",
        "\n",
        "def reconstruct_kernel(k, n:int=None, min_score:float=None):\n",
        "  n = n or k.shape[0]\n",
        "  min_score = min_score or 1.0\n",
        "  u,s,vt = torch.linalg.svd(k, full_matrices=True)\n",
        "  kr = torch.zeros_like(k)\n",
        "  score = 0.0\n",
        "  for i in range(n):  \n",
        "    kr = kr + u[:,i:i+1]*s[i]*vt[i:i+1,:]\n",
        "    print(u[:, i])\n",
        "    print(v[i, :])\n",
        "    print(s[i])\n",
        "    score += abs(s[i])\n",
        "    if score/s.abs().sum() >= min_score:\n",
        "      break\n",
        "  print(f'Used {i+1} singular vector(s), score {score/s.abs().sum()*100:.3f}%')\n",
        "  return kr"
      ],
      "metadata": {
        "id": "X7cmK1n6u7Cj"
      },
      "execution_count": null,
      "outputs": []
    },
    {
      "cell_type": "code",
      "source": [
        "fig, axs = plt.subplots(4,3)\n",
        "\n",
        "for idx in range(4):\n",
        "  k = kernels[idx,0]\n",
        "  kr = reconstruct_kernel(k, min_score=0.9) \n",
        "  diff = abs(k-kr)\n",
        "  plot_kernel(k, axs[idx,0])\n",
        "  plot_kernel(kr, axs[idx,1])\n",
        "  data = axs[idx,2].imshow(diff, vmin=0, vmax=k.max())\n",
        "\n",
        "  div = make_axes_locatable(axs[idx,2])\n",
        "  cax = div.append_axes('right', size='5%', pad=0.05)\n",
        "  fig.colorbar(data, cax=cax, orientation='vertical')"
      ],
      "metadata": {
        "colab": {
          "base_uri": "https://localhost:8080/",
          "height": 1000
        },
        "id": "adrIyYMbumpQ",
        "outputId": "292122ba-5543-4b0c-c74c-7faa6db793ef"
      },
      "execution_count": null,
      "outputs": [
        {
          "output_type": "stream",
          "name": "stdout",
          "text": [
            "tensor([-0.1526,  0.3051,  0.8759,  0.3051, -0.1526])\n",
            "tensor([-0.1526, -0.2770,  0.2288,  0.9207,  0.0000])\n",
            "tensor(0.7177)\n",
            "tensor([ 0.2770, -0.5540,  0.4824, -0.5540,  0.2770])\n",
            "tensor([ 3.0512e-01,  5.5399e-01, -6.7250e-01,  3.8438e-01,  3.1061e-08])\n",
            "tensor(0.2177)\n",
            "Used 2 singular vector(s), score 100.000%\n",
            "tensor([ 0.0402, -0.1364,  0.9796, -0.1364,  0.0402])\n",
            "tensor([-0.1526, -0.2770,  0.2288,  0.9207,  0.0000])\n",
            "tensor(0.9797)\n",
            "tensor([-0.2595, -0.6481, -0.1592, -0.6481, -0.2595])\n",
            "tensor([ 3.0512e-01,  5.5399e-01, -6.7250e-01,  3.8438e-01,  3.1061e-08])\n",
            "tensor(0.1783)\n",
            "Used 2 singular vector(s), score 98.105%\n",
            "tensor([ 0.1250, -0.5347, -0.6300, -0.5347,  0.1250])\n",
            "tensor([-0.1526, -0.2770,  0.2288,  0.9207,  0.0000])\n",
            "tensor(0.9797)\n",
            "tensor([-0.1117, -0.4622,  0.7402, -0.4622, -0.1117])\n",
            "tensor([ 3.0512e-01,  5.5399e-01, -6.7250e-01,  3.8438e-01,  3.1061e-08])\n",
            "tensor(0.1783)\n",
            "Used 2 singular vector(s), score 98.105%\n",
            "tensor([-2.1419e-01,  0.0000e+00,  9.5302e-01,  6.8493e-09, -2.1419e-01])\n",
            "tensor([-0.1526, -0.2770,  0.2288,  0.9207,  0.0000])\n",
            "tensor(0.8343)\n",
            "tensor([ 1.2688e-08,  7.0711e-01, -3.5781e-08,  7.0711e-01,  4.2490e-08])\n",
            "tensor([ 3.0512e-01,  5.5399e-01, -6.7250e-01,  3.8438e-01,  3.1061e-08])\n",
            "tensor(0.5000)\n",
            "Used 2 singular vector(s), score 94.059%\n"
          ]
        },
        {
          "output_type": "display_data",
          "data": {
            "text/plain": [
              "<Figure size 720x720 with 16 Axes>"
            ],
            "image/png": "[encoded data removed]"
          },
          "metadata": {
            "needs_background": "light"
          }
        }
      ]
    },
    {
      "cell_type": "code",
      "source": [
        ""
      ],
      "metadata": {
        "id": "vYFcILJtvr7h"
      },
      "execution_count": null,
      "outputs": []
    }
  ]
}